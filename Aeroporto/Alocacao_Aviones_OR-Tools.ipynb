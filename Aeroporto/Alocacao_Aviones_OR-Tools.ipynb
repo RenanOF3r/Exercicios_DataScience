{
 "cells": [
  {
   "cell_type": "markdown",
   "id": "013e9733",
   "metadata": {},
   "source": [
    "# Projeto: Alocação de Aviões com OR-Tools"
   ]
  },
  {
   "cell_type": "markdown",
   "id": "fac033a8",
   "metadata": {},
   "source": [
    "Este notebook demonstra o funcionamento de um modelo de alocação de aviões utilizando o solver CP-SAT da Google OR-Tools."
   ]
  },
  {
   "cell_type": "code",
   "execution_count": null,
   "id": "724e9fb7",
   "metadata": {},
   "outputs": [],
   "source": [
    "!pip install ortools==9.7.2996 matplotlib --quiet"
   ]
  },
  {
   "cell_type": "code",
   "execution_count": null,
   "id": "c987b489",
   "metadata": {},
   "outputs": [],
   "source": [
    "from ortools.sat.python import cp_model\n",
    "import matplotlib.pyplot as plt\n",
    "\n",
    "def alocar_avioes(total_avioes, total_estacionamentos, total_tempo,\n",
    "                  momento_de_chegada, tempo_duracao, custos):\n",
    "    modelo = cp_model.CpModel()\n",
    "    solucionador = cp_model.CpSolver()\n",
    "\n",
    "    X = [[[modelo.NewBoolVar(f'X_av{i}_est{j}_t{k}')\n",
    "           for k in range(total_tempo)]\n",
    "           for j in range(total_estacionamentos)]\n",
    "           for i in range(total_avioes)]\n",
    "\n",
    "    Y = [[modelo.NewBoolVar(f'Y_av{i}_est{j}')\n",
    "           for j in range(total_estacionamentos)]\n",
    "           for i in range(total_avioes)]\n",
    "\n",
    "    for j in range(total_estacionamentos):\n",
    "        for k in range(total_tempo):\n",
    "            modelo.Add(sum(X[i][j][k] for i in range(total_avioes)) <= 1)\n",
    "\n",
    "    for i in range(total_avioes):\n",
    "        modelo.Add(sum(X[i][j][k] for j in range(total_estacionamentos)\n",
    "                                      for k in range(total_tempo)) == tempo_duracao[i])\n",
    "        modelo.Add(sum(Y[i]) == 1)\n",
    "\n",
    "        for j in range(total_estacionamentos):\n",
    "            uso = [X[i][j][k] for k in range(total_tempo)]\n",
    "            modelo.Add(sum(uso) == tempo_duracao[i]).OnlyEnforceIf(Y[i][j])\n",
    "            modelo.Add(sum(uso) == 0).OnlyEnforceIf(Y[i][j].Not())\n",
    "\n",
    "            for k in range(momento_de_chegada[i]):\n",
    "                modelo.Add(X[i][j][k] == 0)\n",
    "\n",
    "        if momento_de_chegada[i] < total_tempo:\n",
    "            modelo.Add(sum(X[i][j][momento_de_chegada[i]]\n",
    "                           for j in range(total_estacionamentos)) == 1)\n",
    "\n",
    "    modelo.Minimize(sum(custos[i][j] * Y[i][j]\n",
    "                        for i in range(total_avioes)\n",
    "                        for j in range(total_estacionamentos)))\n",
    "\n",
    "    status = solucionador.Solve(modelo)\n",
    "\n",
    "    resultados = []\n",
    "    if status in (cp_model.OPTIMAL, cp_model.FEASIBLE):\n",
    "        for i in range(total_avioes):\n",
    "            for j in range(total_estacionamentos):\n",
    "                for k in range(total_tempo):\n",
    "                    if solucionador.Value(X[i][j][k]):\n",
    "                        resultados.append((i, j, k))\n",
    "    return resultados"
   ]
  },
  {
   "cell_type": "markdown",
   "id": "deb93a9b",
   "metadata": {},
   "source": [
    "### Explicação da Função\n",
    "Esta função monta o modelo de alocação com as variáveis X e Y, aplica restrições de ocupação, chegada, duração e minimiza o custo total."
   ]
  },
  {
   "cell_type": "markdown",
   "id": "95bd0001",
   "metadata": {},
   "source": [
    "## Exemplo Pequeno"
   ]
  },
  {
   "cell_type": "code",
   "execution_count": null,
   "id": "d3416c6a",
   "metadata": {},
   "outputs": [],
   "source": [
    "res = alocar_avioes(\n",
    "    3, 2, 10,\n",
    "    [0, 2, 5],\n",
    "    [3, 4, 2],\n",
    "    [\n",
    "        [10, 50],\n",
    "        [10, 60],\n",
    "        [40, 5]\n",
    "    ])\n",
    "res"
   ]
  },
  {
   "cell_type": "code",
   "execution_count": null,
   "id": "571f1c9e",
   "metadata": {},
   "outputs": [],
   "source": [
    "def plot_resultados(res, total_avioes, total_estacionamentos, total_tempo):\n",
    "    fig, ax = plt.subplots(figsize=(12, 6))\n",
    "    cmap = plt.get_cmap(\"tab10\")\n",
    "    ocupacoes = {}\n",
    "\n",
    "    for i, j, k in res:\n",
    "        ocupacoes.setdefault((i, j), []).append(k)\n",
    "\n",
    "    for (i, j), ks in ocupacoes.items():\n",
    "        inicio = min(ks)\n",
    "        fim = max(ks)\n",
    "        ax.broken_barh([(inicio, fim - inicio + 1)], (i * 10, 9),\n",
    "                       facecolors=cmap(j % 10), edgecolor='black')\n",
    "        ax.text(inicio + (fim - inicio)/2, i * 10 + 4.5, f\"E{j}\", ha='center', va='center', color='white')\n",
    "\n",
    "    ax.set_xlabel(\"Tempo\")\n",
    "    ax.set_ylabel(\"Aviões\")\n",
    "    ax.set_yticks([i * 10 + 4.5 for i in range(total_avioes)])\n",
    "    ax.set_yticklabels([f\"Avião {i}\" for i in range(total_avioes)])\n",
    "    ax.grid(True)\n",
    "    plt.title(\"Alocação de Aviões\")\n",
    "    plt.tight_layout()\n",
    "    plt.show()\n",
    "\n",
    "plot_resultados(res, 3, 2, 10)"
   ]
  },
  {
   "cell_type": "markdown",
   "id": "60023363",
   "metadata": {},
   "source": [
    "## Exemplo Grande\n",
    "Neste exemplo, testamos a alocação de 12 aviões ao longo de 24 unidades de tempo, com 5 estacionamentos disponíveis."
   ]
  },
  {
   "cell_type": "markdown",
   "id": "1b3106dc",
   "metadata": {},
   "source": [
    "### Resultado e Visualização\n",
    "A saída da função `alocar_avioes` é uma lista de tuplas `(avião, estacionamento, tempo)`, indicando onde cada avião está alocado. A função `plot_resultados` gera um gráfico com essas alocações."
   ]
  },
  {
   "cell_type": "code",
   "execution_count": null,
   "id": "f7a15cf7",
   "metadata": {},
   "outputs": [],
   "source": [
    "res2 = alocar_avioes(\n",
    "    12, 5, 24,\n",
    "    [0, 1, 2, 3, 4, 5, 6, 7, 8, 9, 10, 11],\n",
    "    [3, 4, 5, 2, 3, 4, 2, 3, 2, 4, 3, 3],\n",
    "    [[(j + 1) * 100 + i * 5 for j in range(5)] for i in range(12)]\n",
    ")\n",
    "res2"
   ]
  },
  {
   "cell_type": "code",
   "execution_count": null,
   "id": "62259aa0",
   "metadata": {},
   "outputs": [],
   "source": [
    "plot_resultados(res2, 12, 5, 24)"
   ]
  }
 ],
 "metadata": {},
 "nbformat": 4,
 "nbformat_minor": 5
}
